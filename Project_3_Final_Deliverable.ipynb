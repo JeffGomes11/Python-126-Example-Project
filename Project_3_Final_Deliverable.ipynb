{
 "cells": [
  {
   "cell_type": "code",
   "execution_count": 9,
   "id": "6e55debb",
   "metadata": {},
   "outputs": [
    {
     "data": {
      "text/plain": [
       "{'purple': 191,\n",
       " 'blue': 366,\n",
       " 'orange': 42,\n",
       " 'green': 211,\n",
       " 'red': 92,\n",
       " 'yellow': 58,\n",
       " 'pink': 40}"
      ]
     },
     "execution_count": 9,
     "metadata": {},
     "output_type": "execute_result"
    }
   ],
   "source": [
    "def read_file(filename, count):\n",
    "# establish path to the file\n",
    "    fpath= 'colors.txt'\n",
    "\n",
    "#open file\n",
    "f=open(fpath, 'r')\n",
    "\n",
    "#have code read the file out\n",
    "colors= f.read().splitlines()\n",
    "\n",
    "#make the dictionary which will hold the index of the items in file\n",
    "d= {}\n",
    "\n",
    "#split up each of the colors\n",
    "for c in colors:\n",
    "    #set the starting count to 0, then say to go up by 1 everytime it goes through the list, loop made in line 14\n",
    "    current_count= d.get(c,0)\n",
    "    new_count= current_count+1\n",
    "    #now that its been coded to update the count of colors, have it print the updated counts\n",
    "    d.update({c:new_count})\n",
    "\n",
    "d\n"
   ]
  },
  {
   "cell_type": "code",
   "execution_count": null,
   "id": "ec64fb82",
   "metadata": {},
   "outputs": [],
   "source": []
  }
 ],
 "metadata": {
  "kernelspec": {
   "display_name": "Python 3 (ipykernel)",
   "language": "python",
   "name": "python3"
  },
  "language_info": {
   "codemirror_mode": {
    "name": "ipython",
    "version": 3
   },
   "file_extension": ".py",
   "mimetype": "text/x-python",
   "name": "python",
   "nbconvert_exporter": "python",
   "pygments_lexer": "ipython3",
   "version": "3.9.7"
  }
 },
 "nbformat": 4,
 "nbformat_minor": 5
}
